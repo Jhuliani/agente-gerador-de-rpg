{
  "cells": [
    {
      "cell_type": "markdown",
      "metadata": {
        "id": "view-in-github",
        "colab_type": "text"
      },
      "source": [
        "<a href=\"https://colab.research.google.com/github/Jhuliani/agente-gerador-de-rpg/blob/main/agente_criacao_de_rpg.ipynb\" target=\"_parent\"><img src=\"https://colab.research.google.com/assets/colab-badge.svg\" alt=\"Open In Colab\"/></a>"
      ]
    },
    {
      "cell_type": "code",
      "execution_count": null,
      "metadata": {
        "id": "UCCbECexLk_h"
      },
      "outputs": [],
      "source": [
        "%pip -q install google-genai"
      ]
    },
    {
      "cell_type": "code",
      "execution_count": null,
      "metadata": {
        "id": "NfCqHo1tLk8P"
      },
      "outputs": [],
      "source": [
        "# Configura a API Key do Google Gemini\n",
        "\n",
        "import os\n",
        "from google.colab import userdata\n",
        "\n",
        "os.environ[\"GOOGLE_API_KEY\"] = userdata.get('GOOGLE_API_KEY')"
      ]
    },
    {
      "cell_type": "code",
      "execution_count": null,
      "metadata": {
        "id": "bV4w0H5TLk5g"
      },
      "outputs": [],
      "source": [
        "# Configura o cliente da SDK do Gemini\n",
        "\n",
        "from google import genai\n",
        "\n",
        "client = genai.Client()\n",
        "\n",
        "MODEL_ID = \"gemini-2.0-flash\""
      ]
    },
    {
      "cell_type": "code",
      "execution_count": null,
      "metadata": {
        "id": "a1eRPalxEnj7",
        "collapsed": true
      },
      "outputs": [],
      "source": [
        "# Instalar Framework de agentes do Google\n",
        "!pip install -q google-adk"
      ]
    },
    {
      "cell_type": "code",
      "execution_count": null,
      "metadata": {
        "id": "aePV2bdfDeoW"
      },
      "outputs": [],
      "source": [
        "from google.adk.agents import Agent\n",
        "from google.adk.runners import Runner\n",
        "from google.adk.sessions import InMemorySessionService\n",
        "from google.adk.tools import google_search\n",
        "from google.genai import types  # Para criar conteúdos (Content e Part)\n",
        "from datetime import date\n",
        "import textwrap # Para formatar melhor a saída de texto\n",
        "from IPython.display import display, Markdown # Para exibir texto formatado no Colab\n",
        "import requests # Para fazer requisições HTTP\n",
        "import warnings\n",
        "\n",
        "warnings.filterwarnings(\"ignore\")"
      ]
    },
    {
      "cell_type": "code",
      "execution_count": null,
      "metadata": {
        "id": "_xP4lWhsS5ko"
      },
      "outputs": [],
      "source": [
        "# Função auxiliar que envia uma mensagem para um agente via Runner e retorna a resposta final\n",
        "def call_agent(agent: Agent, message_text: str) -> str:\n",
        "    # Cria um serviço de sessão em memória\n",
        "    session_service = InMemorySessionService()\n",
        "    # Cria uma nova sessão (você pode personalizar os IDs conforme necessário)\n",
        "    session = session_service.create_session(app_name=agent.name, user_id=\"user1\", session_id=\"session1\")\n",
        "    # Cria um Runner para o agente\n",
        "    runner = Runner(agent=agent, app_name=agent.name, session_service=session_service)\n",
        "    # Cria o conteúdo da mensagem de entrada\n",
        "    content = types.Content(role=\"user\", parts=[types.Part(text=message_text)])\n",
        "\n",
        "    final_response = \"\"\n",
        "    # Itera assincronamente pelos eventos retornados durante a execução do agente\n",
        "    for event in runner.run(user_id=\"user1\", session_id=\"session1\", new_message=content):\n",
        "        if event.is_final_response():\n",
        "          for part in event.content.parts:\n",
        "            if part.text is not None:\n",
        "              final_response += part.text\n",
        "              final_response += \"\\n\"\n",
        "    return final_response"
      ]
    },
    {
      "cell_type": "code",
      "execution_count": null,
      "metadata": {
        "id": "8dosiodaxfFR"
      },
      "outputs": [],
      "source": [
        "# Função auxiliar para exibir texto formatado em Markdown no Colab\n",
        "def to_markdown(text):\n",
        "  text = text.replace('•', '  *')\n",
        "  return Markdown(textwrap.indent(text, '> ', predicate=lambda _: True))"
      ]
    },
    {
      "cell_type": "markdown",
      "metadata": {
        "id": "HB7ruuwB57F4"
      },
      "source": []
    },
    {
      "cell_type": "code",
      "execution_count": null,
      "metadata": {
        "id": "o8bqIfi_DyH8"
      },
      "outputs": [],
      "source": [
        "###############################################\n",
        "# --- Agente 1\n",
        "###############################################\n",
        "def agente_cenario(tema: str) -> str:\n",
        "    \"\"\"Cria o cenário do RPG com base no tema fornecido\"\"\"\n",
        "    cenario_agent = Agent(\n",
        "        name=\"agente_cenario\",\n",
        "        model=\"gemini-1.5-pro\",\n",
        "        instruction=f\"\"\"\n",
        "        Você é um mestre de RPG especializado em criação de mundos. Siga estas etapas:\n",
        "        1. Analise o tema: '{tema}'\n",
        "        2. Crie um cenário imersivo com:\n",
        "           - Nome do mundo/região\n",
        "           - Período histórico\n",
        "           - Tom (sombrio, heroico, humorístico)\n",
        "           - 2-3 conflitos principais\n",
        "        3. Use 'Google Search' se precisar de referências históricas/mitológicas\n",
        "        4. Retorne em formato narrativo (1 parágrafo) + lista de conflitos\n",
        "        \"\"\",\n",
        "        tools=[google_search],\n",
        "        description=\"Cria cenários de RPG imersivos\"\n",
        "    )\n",
        "    return call_agent(cenario_agent, tema)\n"
      ]
    },
    {
      "cell_type": "code",
      "execution_count": null,
      "metadata": {
        "id": "y3VO1uo5_ghO"
      },
      "outputs": [],
      "source": [
        "##############################################\n",
        "# --- Agente 2\n",
        "##############################################\n",
        "def agente_npcs(cenario: str) -> str:\n",
        "    \"\"\"Gera NPCs interessantes para o cenário\"\"\"\n",
        "    npc_agent = Agent(\n",
        "        name=\"agente_npcs\",\n",
        "        model=\"gemini-1.5-pro\",\n",
        "        instruction=f\"\"\"\n",
        "        Com base neste cenário: '{cenario}', crie 3 NPCs memoráveis:\n",
        "        Para cada NPC inclua:\n",
        "        - Nome, aparência e profissão\n",
        "        - 1 motivação secreta\n",
        "        - 1 fraqueza ou segredo\n",
        "        - Como eles se relacionam com os conflitos do cenário\n",
        "        \"\"\",\n",
        "        description=\"Gera personagens não jogáveis com profundidade\"\n",
        "    )\n",
        "    return call_agent(npc_agent, cenario)"
      ]
    },
    {
      "cell_type": "code",
      "execution_count": null,
      "metadata": {
        "id": "uOqlg2TRLVh1"
      },
      "outputs": [],
      "source": [
        "###########################################\n",
        "# --- Agente 3\n",
        "###########################################\n",
        "def agente_missoes(cenario: str, npcs: str) -> str:\n",
        "    \"\"\"Cria missões coerentes com o cenário e NPCs\"\"\"\n",
        "    missao_agent = Agent(\n",
        "        name=\"agente_missoes\",\n",
        "        model=\"gemini-1.5-flash\",\n",
        "        instruction=f\"\"\"\n",
        "        Com base neste cenário: '{cenario}' e nestes NPCs: '{npcs}',\n",
        "        crie 3 missões interconectadas:\n",
        "        1. Missão principal (objetivo final)\n",
        "        2. Missão secundária (para desenvolvimento)\n",
        "        3. Missão de intriga (relacionada a segredos)\n",
        "        Para cada missão inclua:\n",
        "        - Título e objetivo\n",
        "        - NPCs envolvidos\n",
        "        - Recompensas\n",
        "        - 2-3 desafios esperados\n",
        "        \"\"\",\n",
        "        description=\"Cria quests para campanhas de RPG\"\n",
        "    )\n",
        "    return call_agent(missao_agent, f\"Cenário: {cenario}\\nNPCs: {npcs}\")"
      ]
    },
    {
      "cell_type": "code",
      "execution_count": null,
      "metadata": {
        "id": "_aTb1SdkLeT6"
      },
      "outputs": [],
      "source": [
        "#########################################\n",
        "# --- Agente 4\n",
        "#########################################\n",
        "def agente_item_magico(cenario: str) -> str:\n",
        "    \"\"\"Gera itens mágicos temáticos\"\"\"\n",
        "    item_agent = Agent(\n",
        "        name=\"agente_itens\",\n",
        "        model=\"gemini-1.0-pro\",\n",
        "        instruction=f\"\"\"\n",
        "        Para o cenário: '{cenario}', crie 2 itens mágicos únicos:\n",
        "        Para cada item inclua:\n",
        "        - Nome criativo\n",
        "        - Descrição física\n",
        "        - Efeito mágico/benefício\n",
        "        - 1 efeito colateral ou maldição (se aplicável)\n",
        "        - Valor estimado em peças de ouro\n",
        "        \"\"\",\n",
        "        description=\"Cria itens mágicos balanceados\"\n",
        "    )\n",
        "    return call_agent(item_agent, cenario)"
      ]
    },
    {
      "cell_type": "code",
      "execution_count": null,
      "metadata": {
        "id": "6xzI6LKzxxnN"
      },
      "outputs": [],
      "source": [
        "###############################################\n",
        "# --- Execução Principal --- #\n",
        "###############################################\n",
        "\n",
        "print(\"Bem-vindo ao seu Assistente para Criação de RPGs\")\n",
        "print(\"Vamos criar uma campanha incrível juntos!\\n\")\n",
        "\n",
        "# Passo 1: Obter o tema do usuário\n",
        "tema_rpg = input(\"Qual o tema da sua campanha (ex: 'fantasia sombria', 'cyberpunk noir', 'terror lovecraftiano')? \").strip()\n",
        "\n",
        "print(f\"\\n Vamos criar uma campanha de {tema_rpg}!\")\n",
        "\n",
        "# Agente 1: Criar Cenário\n",
        "cenario = agente_cenario(tema_rpg)\n",
        "print(\"\\n Resultado do Agente 1 (Cenário) \\n\")\n",
        "display(to_markdown(cenario))\n",
        "print(\"--------------------------------------------------------------\")\n",
        "\n",
        "# Agente 2: Criar NPCs\n",
        "npcs = agente_npcs(cenario)\n",
        "print(\"\\n Resultado do Agente 2 (NPCs) \\n\")\n",
        "display(to_markdown(npcs))\n",
        "print(\"--------------------------------------------------------------\")\n",
        "\n",
        "# Agente 3: Criar Missões\n",
        "missoes = agente_missoes(cenario, npcs)\n",
        "print(\"\\n Resultado do Agente 3 (Missões) \\n\")\n",
        "display(to_markdown(missoes))\n",
        "print(\"--------------------------------------------------------------\")\n",
        "\n",
        "# Agente 4: Criar Itens Mágicos\n",
        "itens = agente_item_magico(cenario)\n",
        "print(\"\\n Resultado do Agente 4 (Itens Mágicos) \\n\")\n",
        "display(to_markdown(itens))\n",
        "print(\"--------------------------------------------------------------\")\n",
        "\n",
        "print(\"\\n Campanha concluída! Agora é só reunir seus jogadores e começar a aventura!\")"
      ]
    }
  ],
  "metadata": {
    "colab": {
      "provenance": [],
      "include_colab_link": true
    },
    "kernelspec": {
      "display_name": "Python 3",
      "name": "python3"
    },
    "language_info": {
      "name": "python"
    }
  },
  "nbformat": 4,
  "nbformat_minor": 0
}